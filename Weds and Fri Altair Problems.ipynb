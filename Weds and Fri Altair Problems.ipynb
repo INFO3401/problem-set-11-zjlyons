{
 "cells": [
  {
   "cell_type": "code",
   "execution_count": 100,
   "metadata": {},
   "outputs": [],
   "source": [
    "import pandas as pd\n",
    "import altair as alt\n",
    "import numpy as np\n",
    "\n",
    "alt.renderers.enable('notebook')\n",
    "\n",
    "sentiment_df = pd.read_csv('sentimentData.csv')\n",
    "word_count_df = pd.read_csv('rawCounts.csv')\n",
    "df = pd.read_csv('simpsons_paradox.csv')\n",
    "\n",
    "df['total'] = df['Admitted'] + df['Rejected']\n",
    "df['AcceptanceRate'] = df['Admitted']/df['total']\n"
   ]
  },
  {
   "cell_type": "code",
   "execution_count": 101,
   "metadata": {},
   "outputs": [
    {
     "data": {
      "text/html": [
       "<div>\n",
       "<style scoped>\n",
       "    .dataframe tbody tr th:only-of-type {\n",
       "        vertical-align: middle;\n",
       "    }\n",
       "\n",
       "    .dataframe tbody tr th {\n",
       "        vertical-align: top;\n",
       "    }\n",
       "\n",
       "    .dataframe thead th {\n",
       "        text-align: right;\n",
       "    }\n",
       "</style>\n",
       "<table border=\"1\" class=\"dataframe\">\n",
       "  <thead>\n",
       "    <tr style=\"text-align: right;\">\n",
       "      <th></th>\n",
       "      <th>Text</th>\n",
       "      <th>Author</th>\n",
       "      <th>Positive</th>\n",
       "      <th>Negative</th>\n",
       "      <th>Neutral</th>\n",
       "    </tr>\n",
       "  </thead>\n",
       "  <tbody>\n",
       "    <tr>\n",
       "      <th>0</th>\n",
       "      <td>jew_of_malta.txt</td>\n",
       "      <td>Marlowe</td>\n",
       "      <td>0.120</td>\n",
       "      <td>0.090</td>\n",
       "      <td>0.790</td>\n",
       "    </tr>\n",
       "    <tr>\n",
       "      <th>1</th>\n",
       "      <td>massacre_at_paris.txt</td>\n",
       "      <td>Marlowe</td>\n",
       "      <td>0.121</td>\n",
       "      <td>0.080</td>\n",
       "      <td>0.798</td>\n",
       "    </tr>\n",
       "    <tr>\n",
       "      <th>2</th>\n",
       "      <td>tamburlaine.txt</td>\n",
       "      <td>Marlowe</td>\n",
       "      <td>0.141</td>\n",
       "      <td>0.091</td>\n",
       "      <td>0.768</td>\n",
       "    </tr>\n",
       "    <tr>\n",
       "      <th>3</th>\n",
       "      <td>faustus.txt</td>\n",
       "      <td>Marlowe</td>\n",
       "      <td>0.119</td>\n",
       "      <td>0.089</td>\n",
       "      <td>0.792</td>\n",
       "    </tr>\n",
       "    <tr>\n",
       "      <th>4</th>\n",
       "      <td>dido_queen_of_carthage.txt</td>\n",
       "      <td>Marlowe</td>\n",
       "      <td>0.087</td>\n",
       "      <td>0.062</td>\n",
       "      <td>0.851</td>\n",
       "    </tr>\n",
       "  </tbody>\n",
       "</table>\n",
       "</div>"
      ],
      "text/plain": [
       "                         Text   Author  Positive  Negative  Neutral\n",
       "0            jew_of_malta.txt  Marlowe     0.120     0.090    0.790\n",
       "1       massacre_at_paris.txt  Marlowe     0.121     0.080    0.798\n",
       "2             tamburlaine.txt  Marlowe     0.141     0.091    0.768\n",
       "3                 faustus.txt  Marlowe     0.119     0.089    0.792\n",
       "4  dido_queen_of_carthage.txt  Marlowe     0.087     0.062    0.851"
      ]
     },
     "execution_count": 101,
     "metadata": {},
     "output_type": "execute_result"
    }
   ],
   "source": [
    "sentiment_df.head()"
   ]
  },
  {
   "cell_type": "markdown",
   "metadata": {},
   "source": [
    "# Problem 4\n",
    "\n",
    "This first chart is meant to visualize the distribution between male/female applicants that are accepted within each department. I believe that this confirms the admissions process is not biased against females, as they make up more than half of the total students admitted in each school, except for department E. The second chart illustrates the counterargument, that could lead us to drawing an incorrect conclusion about bias in the admissions process. This is due to the fact that the second chart does not account for the fact that more males apply to certain departments than females and vice versa. "
   ]
  },
  {
   "cell_type": "code",
   "execution_count": 102,
   "metadata": {},
   "outputs": [
    {
     "data": {
      "text/html": [
       "<div>\n",
       "<style scoped>\n",
       "    .dataframe tbody tr th:only-of-type {\n",
       "        vertical-align: middle;\n",
       "    }\n",
       "\n",
       "    .dataframe tbody tr th {\n",
       "        vertical-align: top;\n",
       "    }\n",
       "\n",
       "    .dataframe thead th {\n",
       "        text-align: right;\n",
       "    }\n",
       "</style>\n",
       "<table border=\"1\" class=\"dataframe\">\n",
       "  <thead>\n",
       "    <tr style=\"text-align: right;\">\n",
       "      <th></th>\n",
       "      <th>Gender</th>\n",
       "      <th>Mean_Age</th>\n",
       "      <th>Admitted</th>\n",
       "      <th>Rejected</th>\n",
       "      <th>Department</th>\n",
       "      <th>total</th>\n",
       "      <th>AcceptanceRate</th>\n",
       "    </tr>\n",
       "  </thead>\n",
       "  <tbody>\n",
       "    <tr>\n",
       "      <th>0</th>\n",
       "      <td>Female</td>\n",
       "      <td>25</td>\n",
       "      <td>89</td>\n",
       "      <td>19</td>\n",
       "      <td>A</td>\n",
       "      <td>108</td>\n",
       "      <td>0.824074</td>\n",
       "    </tr>\n",
       "    <tr>\n",
       "      <th>1</th>\n",
       "      <td>Female</td>\n",
       "      <td>22</td>\n",
       "      <td>17</td>\n",
       "      <td>8</td>\n",
       "      <td>B</td>\n",
       "      <td>25</td>\n",
       "      <td>0.680000</td>\n",
       "    </tr>\n",
       "    <tr>\n",
       "      <th>2</th>\n",
       "      <td>Female</td>\n",
       "      <td>24</td>\n",
       "      <td>202</td>\n",
       "      <td>391</td>\n",
       "      <td>C</td>\n",
       "      <td>593</td>\n",
       "      <td>0.340641</td>\n",
       "    </tr>\n",
       "    <tr>\n",
       "      <th>3</th>\n",
       "      <td>Female</td>\n",
       "      <td>23</td>\n",
       "      <td>131</td>\n",
       "      <td>244</td>\n",
       "      <td>D</td>\n",
       "      <td>375</td>\n",
       "      <td>0.349333</td>\n",
       "    </tr>\n",
       "    <tr>\n",
       "      <th>4</th>\n",
       "      <td>Female</td>\n",
       "      <td>24</td>\n",
       "      <td>94</td>\n",
       "      <td>299</td>\n",
       "      <td>E</td>\n",
       "      <td>393</td>\n",
       "      <td>0.239186</td>\n",
       "    </tr>\n",
       "  </tbody>\n",
       "</table>\n",
       "</div>"
      ],
      "text/plain": [
       "   Gender  Mean_Age  Admitted  Rejected Department  total  AcceptanceRate\n",
       "0  Female        25        89        19          A    108        0.824074\n",
       "1  Female        22        17         8          B     25        0.680000\n",
       "2  Female        24       202       391          C    593        0.340641\n",
       "3  Female        23       131       244          D    375        0.349333\n",
       "4  Female        24        94       299          E    393        0.239186"
      ]
     },
     "execution_count": 102,
     "metadata": {},
     "output_type": "execute_result"
    }
   ],
   "source": [
    "df.head()"
   ]
  },
  {
   "cell_type": "code",
   "execution_count": 103,
   "metadata": {},
   "outputs": [
    {
     "data": {
      "application/javascript": [
       "var spec = {\"config\": {\"view\": {\"width\": 400, \"height\": 300}}, \"data\": {\"name\": \"data-60a8afc9c8d2f1a1eaddb142e02bfaa0\"}, \"mark\": \"bar\", \"encoding\": {\"color\": {\"type\": \"nominal\", \"field\": \"Gender\"}, \"x\": {\"type\": \"quantitative\", \"aggregate\": \"sum\", \"field\": \"AcceptanceRate\", \"stack\": \"normalize\"}, \"y\": {\"type\": \"nominal\", \"field\": \"Department\"}}, \"$schema\": \"https://vega.github.io/schema/vega-lite/v2.6.0.json\", \"datasets\": {\"data-60a8afc9c8d2f1a1eaddb142e02bfaa0\": [{\"Gender\": \"Female\", \"Mean_Age\": 25, \"Admitted\": 89, \"Rejected\": 19, \"Department\": \"A\", \"total\": 108, \"AcceptanceRate\": 0.8240740740740741}, {\"Gender\": \"Female\", \"Mean_Age\": 22, \"Admitted\": 17, \"Rejected\": 8, \"Department\": \"B\", \"total\": 25, \"AcceptanceRate\": 0.68}, {\"Gender\": \"Female\", \"Mean_Age\": 24, \"Admitted\": 202, \"Rejected\": 391, \"Department\": \"C\", \"total\": 593, \"AcceptanceRate\": 0.3406408094435076}, {\"Gender\": \"Female\", \"Mean_Age\": 23, \"Admitted\": 131, \"Rejected\": 244, \"Department\": \"D\", \"total\": 375, \"AcceptanceRate\": 0.34933333333333333}, {\"Gender\": \"Female\", \"Mean_Age\": 24, \"Admitted\": 94, \"Rejected\": 299, \"Department\": \"E\", \"total\": 393, \"AcceptanceRate\": 0.23918575063613232}, {\"Gender\": \"Female\", \"Mean_Age\": 24, \"Admitted\": 24, \"Rejected\": 317, \"Department\": \"F\", \"total\": 341, \"AcceptanceRate\": 0.07038123167155426}, {\"Gender\": \"Male\", \"Mean_Age\": 22, \"Admitted\": 512, \"Rejected\": 313, \"Department\": \"A\", \"total\": 825, \"AcceptanceRate\": 0.6206060606060606}, {\"Gender\": \"Male\", \"Mean_Age\": 22, \"Admitted\": 353, \"Rejected\": 207, \"Department\": \"B\", \"total\": 560, \"AcceptanceRate\": 0.6303571428571428}, {\"Gender\": \"Male \", \"Mean_Age\": 23, \"Admitted\": 120, \"Rejected\": 205, \"Department\": \"C\", \"total\": 325, \"AcceptanceRate\": 0.36923076923076925}, {\"Gender\": \"Male \", \"Mean_Age\": 24, \"Admitted\": 138, \"Rejected\": 279, \"Department\": \"D\", \"total\": 417, \"AcceptanceRate\": 0.33093525179856115}, {\"Gender\": \"Male \", \"Mean_Age\": 22, \"Admitted\": 53, \"Rejected\": 138, \"Department\": \"E\", \"total\": 191, \"AcceptanceRate\": 0.2774869109947644}, {\"Gender\": \"Male \", \"Mean_Age\": 25, \"Admitted\": 22, \"Rejected\": 351, \"Department\": \"F\", \"total\": 373, \"AcceptanceRate\": 0.058981233243967826}]}};\n",
       "var opt = {};\n",
       "var type = \"vega-lite\";\n",
       "var id = \"d73a2aa5-70ce-465e-b44b-b53b8febaaf6\";\n",
       "\n",
       "var output_area = this;\n",
       "\n",
       "require([\"nbextensions/jupyter-vega/index\"], function(vega) {\n",
       "  var target = document.createElement(\"div\");\n",
       "  target.id = id;\n",
       "  target.className = \"vega-embed\";\n",
       "\n",
       "  var style = document.createElement(\"style\");\n",
       "  style.textContent = [\n",
       "    \".vega-embed .error p {\",\n",
       "    \"  color: firebrick;\",\n",
       "    \"  font-size: 14px;\",\n",
       "    \"}\",\n",
       "  ].join(\"\\\\n\");\n",
       "\n",
       "  // element is a jQuery wrapped DOM element inside the output area\n",
       "  // see http://ipython.readthedocs.io/en/stable/api/generated/\\\n",
       "  // IPython.display.html#IPython.display.Javascript.__init__\n",
       "  element[0].appendChild(target);\n",
       "  element[0].appendChild(style);\n",
       "\n",
       "  vega.render(\"#\" + id, spec, type, opt, output_area);\n",
       "}, function (err) {\n",
       "  if (err.requireType !== \"scripterror\") {\n",
       "    throw(err);\n",
       "  }\n",
       "});\n"
      ],
      "text/plain": [
       "<vega.vegalite.VegaLite at 0x10be3b2b0>"
      ]
     },
     "metadata": {
      "jupyter-vega": "#d73a2aa5-70ce-465e-b44b-b53b8febaaf6"
     },
     "output_type": "display_data"
    },
    {
     "data": {
      "text/plain": []
     },
     "execution_count": 103,
     "metadata": {},
     "output_type": "execute_result"
    },
    {
     "data": {
      "image/png": "[encoded data removed]"
     },
     "metadata": {
      "jupyter-vega": "#d73a2aa5-70ce-465e-b44b-b53b8febaaf6"
     },
     "output_type": "display_data"
    }
   ],
   "source": [
    "alt.Chart(df).mark_bar().encode(\n",
    "    x=alt.X('sum(AcceptanceRate)', stack=\"normalize\"),\n",
    "    y='Department',\n",
    "    color='Gender'\n",
    ")"
   ]
  },
  {
   "cell_type": "code",
   "execution_count": 104,
   "metadata": {},
   "outputs": [
    {
     "data": {
      "application/javascript": [
       "var spec = {\"config\": {\"view\": {\"width\": 400, \"height\": 300}}, \"data\": {\"name\": \"data-60a8afc9c8d2f1a1eaddb142e02bfaa0\"}, \"mark\": \"bar\", \"encoding\": {\"color\": {\"type\": \"nominal\", \"field\": \"Gender\"}, \"x\": {\"type\": \"quantitative\", \"aggregate\": \"sum\", \"field\": \"Admitted\", \"stack\": \"normalize\"}, \"y\": {\"type\": \"nominal\", \"field\": \"Department\"}}, \"$schema\": \"https://vega.github.io/schema/vega-lite/v2.6.0.json\", \"datasets\": {\"data-60a8afc9c8d2f1a1eaddb142e02bfaa0\": [{\"Gender\": \"Female\", \"Mean_Age\": 25, \"Admitted\": 89, \"Rejected\": 19, \"Department\": \"A\", \"total\": 108, \"AcceptanceRate\": 0.8240740740740741}, {\"Gender\": \"Female\", \"Mean_Age\": 22, \"Admitted\": 17, \"Rejected\": 8, \"Department\": \"B\", \"total\": 25, \"AcceptanceRate\": 0.68}, {\"Gender\": \"Female\", \"Mean_Age\": 24, \"Admitted\": 202, \"Rejected\": 391, \"Department\": \"C\", \"total\": 593, \"AcceptanceRate\": 0.3406408094435076}, {\"Gender\": \"Female\", \"Mean_Age\": 23, \"Admitted\": 131, \"Rejected\": 244, \"Department\": \"D\", \"total\": 375, \"AcceptanceRate\": 0.34933333333333333}, {\"Gender\": \"Female\", \"Mean_Age\": 24, \"Admitted\": 94, \"Rejected\": 299, \"Department\": \"E\", \"total\": 393, \"AcceptanceRate\": 0.23918575063613232}, {\"Gender\": \"Female\", \"Mean_Age\": 24, \"Admitted\": 24, \"Rejected\": 317, \"Department\": \"F\", \"total\": 341, \"AcceptanceRate\": 0.07038123167155426}, {\"Gender\": \"Male\", \"Mean_Age\": 22, \"Admitted\": 512, \"Rejected\": 313, \"Department\": \"A\", \"total\": 825, \"AcceptanceRate\": 0.6206060606060606}, {\"Gender\": \"Male\", \"Mean_Age\": 22, \"Admitted\": 353, \"Rejected\": 207, \"Department\": \"B\", \"total\": 560, \"AcceptanceRate\": 0.6303571428571428}, {\"Gender\": \"Male \", \"Mean_Age\": 23, \"Admitted\": 120, \"Rejected\": 205, \"Department\": \"C\", \"total\": 325, \"AcceptanceRate\": 0.36923076923076925}, {\"Gender\": \"Male \", \"Mean_Age\": 24, \"Admitted\": 138, \"Rejected\": 279, \"Department\": \"D\", \"total\": 417, \"AcceptanceRate\": 0.33093525179856115}, {\"Gender\": \"Male \", \"Mean_Age\": 22, \"Admitted\": 53, \"Rejected\": 138, \"Department\": \"E\", \"total\": 191, \"AcceptanceRate\": 0.2774869109947644}, {\"Gender\": \"Male \", \"Mean_Age\": 25, \"Admitted\": 22, \"Rejected\": 351, \"Department\": \"F\", \"total\": 373, \"AcceptanceRate\": 0.058981233243967826}]}};\n",
       "var opt = {};\n",
       "var type = \"vega-lite\";\n",
       "var id = \"ab927dea-1d0b-4393-ae98-6f7e36d1b57f\";\n",
       "\n",
       "var output_area = this;\n",
       "\n",
       "require([\"nbextensions/jupyter-vega/index\"], function(vega) {\n",
       "  var target = document.createElement(\"div\");\n",
       "  target.id = id;\n",
       "  target.className = \"vega-embed\";\n",
       "\n",
       "  var style = document.createElement(\"style\");\n",
       "  style.textContent = [\n",
       "    \".vega-embed .error p {\",\n",
       "    \"  color: firebrick;\",\n",
       "    \"  font-size: 14px;\",\n",
       "    \"}\",\n",
       "  ].join(\"\\\\n\");\n",
       "\n",
       "  // element is a jQuery wrapped DOM element inside the output area\n",
       "  // see http://ipython.readthedocs.io/en/stable/api/generated/\\\n",
       "  // IPython.display.html#IPython.display.Javascript.__init__\n",
       "  element[0].appendChild(target);\n",
       "  element[0].appendChild(style);\n",
       "\n",
       "  vega.render(\"#\" + id, spec, type, opt, output_area);\n",
       "}, function (err) {\n",
       "  if (err.requireType !== \"scripterror\") {\n",
       "    throw(err);\n",
       "  }\n",
       "});\n"
      ],
      "text/plain": [
       "<vega.vegalite.VegaLite at 0x10be3b3c8>"
      ]
     },
     "metadata": {
      "jupyter-vega": "#ab927dea-1d0b-4393-ae98-6f7e36d1b57f"
     },
     "output_type": "display_data"
    },
    {
     "data": {
      "text/plain": []
     },
     "execution_count": 104,
     "metadata": {},
     "output_type": "execute_result"
    },
    {
     "data": {
      "image/png": "[encoded data removed]"
     },
     "metadata": {
      "jupyter-vega": "#ab927dea-1d0b-4393-ae98-6f7e36d1b57f"
     },
     "output_type": "display_data"
    }
   ],
   "source": [
    "alt.Chart(df).mark_bar().encode(\n",
    "    x=alt.X('sum(Admitted)', stack=\"normalize\"),\n",
    "    y='Department',\n",
    "    color='Gender'\n",
    ")"
   ]
  },
  {
   "cell_type": "markdown",
   "metadata": {},
   "source": [
    "# Problem 5\n",
    "\n",
    "Here I decided to make 3 separate histograms to show the distribution of positive sentiment in each writer's work. Results would indicate that Shakespeare's plays tend to be more positive than Marlowe's."
   ]
  },
  {
   "cell_type": "code",
   "execution_count": 105,
   "metadata": {},
   "outputs": [
    {
     "data": {
      "application/javascript": [
       "var spec = {\"config\": {\"view\": {\"width\": 400, \"height\": 300}}, \"data\": {\"name\": \"data-033e35f39209e7bd9450bf4e917ef80e\"}, \"mark\": \"bar\", \"encoding\": {\"color\": {\"type\": \"nominal\", \"field\": \"Author\"}, \"x\": {\"type\": \"quantitative\", \"bin\": true, \"field\": \"Positive\"}, \"y\": {\"type\": \"quantitative\", \"aggregate\": \"count\"}}, \"$schema\": \"https://vega.github.io/schema/vega-lite/v2.6.0.json\", \"datasets\": {\"data-033e35f39209e7bd9450bf4e917ef80e\": [{\"Text\": \"jew_of_malta.txt\", \"Author\": \"Marlowe\", \"Positive\": 0.12, \"Negative\": 0.09, \"Neutral\": 0.79}, {\"Text\": \"massacre_at_paris.txt\", \"Author\": \"Marlowe\", \"Positive\": 0.121, \"Negative\": 0.08, \"Neutral\": 0.7979999999999999}, {\"Text\": \"tamburlaine.txt\", \"Author\": \"Marlowe\", \"Positive\": 0.141, \"Negative\": 0.091, \"Neutral\": 0.768}, {\"Text\": \"faustus.txt\", \"Author\": \"Marlowe\", \"Positive\": 0.11900000000000001, \"Negative\": 0.08900000000000001, \"Neutral\": 0.792}, {\"Text\": \"dido_queen_of_carthage.txt\", \"Author\": \"Marlowe\", \"Positive\": 0.087, \"Negative\": 0.062, \"Neutral\": 0.851}, {\"Text\": \"edward_II.txt\", \"Author\": \"Marlowe\", \"Positive\": 0.133, \"Negative\": 0.11199999999999999, \"Neutral\": 0.755}, {\"Text\": \"hero_and_leander.txt\", \"Author\": \"Marlowe\", \"Positive\": 0.19, \"Negative\": 0.1, \"Neutral\": 0.71}, {\"Text\": \"henry_vi_3.txt\", \"Author\": \"Shakespeare\", \"Positive\": 0.122, \"Negative\": 0.084, \"Neutral\": 0.794}, {\"Text\": \"love_labours_lost.txt\", \"Author\": \"Shakespeare\", \"Positive\": 0.179, \"Negative\": 0.09300000000000001, \"Neutral\": 0.7290000000000001}, {\"Text\": \"henry_vi_2.txt\", \"Author\": \"Shakespeare\", \"Positive\": 0.114, \"Negative\": 0.08900000000000001, \"Neutral\": 0.797}, {\"Text\": \"henry_vi_1.txt\", \"Author\": \"Shakespeare\", \"Positive\": 0.138, \"Negative\": 0.132, \"Neutral\": 0.731}, {\"Text\": \"richard_iii.txt\", \"Author\": \"Shakespeare\", \"Positive\": 0.157, \"Negative\": 0.147, \"Neutral\": 0.695}, {\"Text\": \"taming_of_the_shrew.txt\", \"Author\": \"Shakespeare\", \"Positive\": 0.159, \"Negative\": 0.073, \"Neutral\": 0.767}, {\"Text\": \"two_gentleman_of_verona.txt\", \"Author\": \"Shakespeare\", \"Positive\": 0.174, \"Negative\": 0.09300000000000001, \"Neutral\": 0.733}, {\"Text\": \"comedy_of_errors.txt\", \"Author\": \"Shakespeare\", \"Positive\": 0.086, \"Negative\": 0.085, \"Neutral\": 0.8290000000000001}, {\"Text\": \"edward_iii.txt\", \"Author\": \"Shakespeare\", \"Positive\": 0.152, \"Negative\": 0.126, \"Neutral\": 0.721}, {\"Text\": \"titus_andronicus.txt\", \"Author\": \"Shakespeare\", \"Positive\": 0.14, \"Negative\": 0.13699999999999998, \"Neutral\": 0.723}]}};\n",
       "var opt = {};\n",
       "var type = \"vega-lite\";\n",
       "var id = \"2c54725f-98cd-4399-8c61-11b52b3d0141\";\n",
       "\n",
       "var output_area = this;\n",
       "\n",
       "require([\"nbextensions/jupyter-vega/index\"], function(vega) {\n",
       "  var target = document.createElement(\"div\");\n",
       "  target.id = id;\n",
       "  target.className = \"vega-embed\";\n",
       "\n",
       "  var style = document.createElement(\"style\");\n",
       "  style.textContent = [\n",
       "    \".vega-embed .error p {\",\n",
       "    \"  color: firebrick;\",\n",
       "    \"  font-size: 14px;\",\n",
       "    \"}\",\n",
       "  ].join(\"\\\\n\");\n",
       "\n",
       "  // element is a jQuery wrapped DOM element inside the output area\n",
       "  // see http://ipython.readthedocs.io/en/stable/api/generated/\\\n",
       "  // IPython.display.html#IPython.display.Javascript.__init__\n",
       "  element[0].appendChild(target);\n",
       "  element[0].appendChild(style);\n",
       "\n",
       "  vega.render(\"#\" + id, spec, type, opt, output_area);\n",
       "}, function (err) {\n",
       "  if (err.requireType !== \"scripterror\") {\n",
       "    throw(err);\n",
       "  }\n",
       "});\n"
      ],
      "text/plain": [
       "<vega.vegalite.VegaLite at 0x10be3b7f0>"
      ]
     },
     "metadata": {
      "jupyter-vega": "#2c54725f-98cd-4399-8c61-11b52b3d0141"
     },
     "output_type": "display_data"
    },
    {
     "data": {
      "text/plain": []
     },
     "execution_count": 105,
     "metadata": {},
     "output_type": "execute_result"
    },
    {
     "data": {
      "image/png": "[encoded data removed]"
     },
     "metadata": {
      "jupyter-vega": "#2c54725f-98cd-4399-8c61-11b52b3d0141"
     },
     "output_type": "display_data"
    }
   ],
   "source": [
    "alt.Chart(sentiment_df).mark_bar().encode(\n",
    "    alt.X(\"Positive\", bin=True),\n",
    "    y='count()', color='Author',\n",
    ")"
   ]
  },
  {
   "cell_type": "code",
   "execution_count": 106,
   "metadata": {},
   "outputs": [],
   "source": [
    "shakespeare_df = sentiment_df[sentiment_df['Author'] == 'Shakespeare']"
   ]
  },
  {
   "cell_type": "code",
   "execution_count": 107,
   "metadata": {},
   "outputs": [],
   "source": [
    "Marlowe_df = sentiment_df[sentiment_df['Author'] == 'Marlowe']"
   ]
  },
  {
   "cell_type": "code",
   "execution_count": 108,
   "metadata": {},
   "outputs": [
    {
     "data": {
      "application/javascript": [
       "var spec = {\"config\": {\"view\": {\"width\": 400, \"height\": 300}}, \"data\": {\"name\": \"data-7705be6b331b992fba24c162e3f1ac79\"}, \"mark\": \"bar\", \"encoding\": {\"x\": {\"type\": \"quantitative\", \"bin\": true, \"field\": \"Positive\"}, \"y\": {\"type\": \"quantitative\", \"aggregate\": \"count\"}}, \"$schema\": \"https://vega.github.io/schema/vega-lite/v2.6.0.json\", \"datasets\": {\"data-7705be6b331b992fba24c162e3f1ac79\": [{\"Text\": \"henry_vi_3.txt\", \"Author\": \"Shakespeare\", \"Positive\": 0.122, \"Negative\": 0.084, \"Neutral\": 0.794}, {\"Text\": \"love_labours_lost.txt\", \"Author\": \"Shakespeare\", \"Positive\": 0.179, \"Negative\": 0.09300000000000001, \"Neutral\": 0.7290000000000001}, {\"Text\": \"henry_vi_2.txt\", \"Author\": \"Shakespeare\", \"Positive\": 0.114, \"Negative\": 0.08900000000000001, \"Neutral\": 0.797}, {\"Text\": \"henry_vi_1.txt\", \"Author\": \"Shakespeare\", \"Positive\": 0.138, \"Negative\": 0.132, \"Neutral\": 0.731}, {\"Text\": \"richard_iii.txt\", \"Author\": \"Shakespeare\", \"Positive\": 0.157, \"Negative\": 0.147, \"Neutral\": 0.695}, {\"Text\": \"taming_of_the_shrew.txt\", \"Author\": \"Shakespeare\", \"Positive\": 0.159, \"Negative\": 0.073, \"Neutral\": 0.767}, {\"Text\": \"two_gentleman_of_verona.txt\", \"Author\": \"Shakespeare\", \"Positive\": 0.174, \"Negative\": 0.09300000000000001, \"Neutral\": 0.733}, {\"Text\": \"comedy_of_errors.txt\", \"Author\": \"Shakespeare\", \"Positive\": 0.086, \"Negative\": 0.085, \"Neutral\": 0.8290000000000001}, {\"Text\": \"edward_iii.txt\", \"Author\": \"Shakespeare\", \"Positive\": 0.152, \"Negative\": 0.126, \"Neutral\": 0.721}, {\"Text\": \"titus_andronicus.txt\", \"Author\": \"Shakespeare\", \"Positive\": 0.14, \"Negative\": 0.13699999999999998, \"Neutral\": 0.723}]}};\n",
       "var opt = {};\n",
       "var type = \"vega-lite\";\n",
       "var id = \"cb5cdd04-9b8c-493d-97c1-13e165027df4\";\n",
       "\n",
       "var output_area = this;\n",
       "\n",
       "require([\"nbextensions/jupyter-vega/index\"], function(vega) {\n",
       "  var target = document.createElement(\"div\");\n",
       "  target.id = id;\n",
       "  target.className = \"vega-embed\";\n",
       "\n",
       "  var style = document.createElement(\"style\");\n",
       "  style.textContent = [\n",
       "    \".vega-embed .error p {\",\n",
       "    \"  color: firebrick;\",\n",
       "    \"  font-size: 14px;\",\n",
       "    \"}\",\n",
       "  ].join(\"\\\\n\");\n",
       "\n",
       "  // element is a jQuery wrapped DOM element inside the output area\n",
       "  // see http://ipython.readthedocs.io/en/stable/api/generated/\\\n",
       "  // IPython.display.html#IPython.display.Javascript.__init__\n",
       "  element[0].appendChild(target);\n",
       "  element[0].appendChild(style);\n",
       "\n",
       "  vega.render(\"#\" + id, spec, type, opt, output_area);\n",
       "}, function (err) {\n",
       "  if (err.requireType !== \"scripterror\") {\n",
       "    throw(err);\n",
       "  }\n",
       "});\n"
      ],
      "text/plain": [
       "<vega.vegalite.VegaLite at 0x10be3b5f8>"
      ]
     },
     "metadata": {
      "jupyter-vega": "#cb5cdd04-9b8c-493d-97c1-13e165027df4"
     },
     "output_type": "display_data"
    },
    {
     "data": {
      "text/plain": []
     },
     "execution_count": 108,
     "metadata": {},
     "output_type": "execute_result"
    },
    {
     "data": {
      "image/png": "[encoded data removed]"
     },
     "metadata": {
      "jupyter-vega": "#cb5cdd04-9b8c-493d-97c1-13e165027df4"
     },
     "output_type": "display_data"
    }
   ],
   "source": [
    "alt.Chart(shakespeare_df).mark_bar().encode(\n",
    "    alt.X(\"Positive\", bin=True),\n",
    "    y='count()',\n",
    ")"
   ]
  },
  {
   "cell_type": "code",
   "execution_count": 109,
   "metadata": {},
   "outputs": [
    {
     "data": {
      "application/javascript": [
       "var spec = {\"config\": {\"view\": {\"width\": 400, \"height\": 300}}, \"data\": {\"name\": \"data-6fc6f80e388b5167368145653d50beb6\"}, \"mark\": \"bar\", \"encoding\": {\"x\": {\"type\": \"quantitative\", \"bin\": true, \"field\": \"Positive\"}, \"y\": {\"type\": \"quantitative\", \"aggregate\": \"count\"}}, \"$schema\": \"https://vega.github.io/schema/vega-lite/v2.6.0.json\", \"datasets\": {\"data-6fc6f80e388b5167368145653d50beb6\": [{\"Text\": \"jew_of_malta.txt\", \"Author\": \"Marlowe\", \"Positive\": 0.12, \"Negative\": 0.09, \"Neutral\": 0.79}, {\"Text\": \"massacre_at_paris.txt\", \"Author\": \"Marlowe\", \"Positive\": 0.121, \"Negative\": 0.08, \"Neutral\": 0.7979999999999999}, {\"Text\": \"tamburlaine.txt\", \"Author\": \"Marlowe\", \"Positive\": 0.141, \"Negative\": 0.091, \"Neutral\": 0.768}, {\"Text\": \"faustus.txt\", \"Author\": \"Marlowe\", \"Positive\": 0.11900000000000001, \"Negative\": 0.08900000000000001, \"Neutral\": 0.792}, {\"Text\": \"dido_queen_of_carthage.txt\", \"Author\": \"Marlowe\", \"Positive\": 0.087, \"Negative\": 0.062, \"Neutral\": 0.851}, {\"Text\": \"edward_II.txt\", \"Author\": \"Marlowe\", \"Positive\": 0.133, \"Negative\": 0.11199999999999999, \"Neutral\": 0.755}, {\"Text\": \"hero_and_leander.txt\", \"Author\": \"Marlowe\", \"Positive\": 0.19, \"Negative\": 0.1, \"Neutral\": 0.71}]}};\n",
       "var opt = {};\n",
       "var type = \"vega-lite\";\n",
       "var id = \"9444dff9-4e35-486b-acf7-db09a504fe45\";\n",
       "\n",
       "var output_area = this;\n",
       "\n",
       "require([\"nbextensions/jupyter-vega/index\"], function(vega) {\n",
       "  var target = document.createElement(\"div\");\n",
       "  target.id = id;\n",
       "  target.className = \"vega-embed\";\n",
       "\n",
       "  var style = document.createElement(\"style\");\n",
       "  style.textContent = [\n",
       "    \".vega-embed .error p {\",\n",
       "    \"  color: firebrick;\",\n",
       "    \"  font-size: 14px;\",\n",
       "    \"}\",\n",
       "  ].join(\"\\\\n\");\n",
       "\n",
       "  // element is a jQuery wrapped DOM element inside the output area\n",
       "  // see http://ipython.readthedocs.io/en/stable/api/generated/\\\n",
       "  // IPython.display.html#IPython.display.Javascript.__init__\n",
       "  element[0].appendChild(target);\n",
       "  element[0].appendChild(style);\n",
       "\n",
       "  vega.render(\"#\" + id, spec, type, opt, output_area);\n",
       "}, function (err) {\n",
       "  if (err.requireType !== \"scripterror\") {\n",
       "    throw(err);\n",
       "  }\n",
       "});\n"
      ],
      "text/plain": [
       "<vega.vegalite.VegaLite at 0x10a779b00>"
      ]
     },
     "metadata": {
      "jupyter-vega": "#9444dff9-4e35-486b-acf7-db09a504fe45"
     },
     "output_type": "display_data"
    },
    {
     "data": {
      "text/plain": []
     },
     "execution_count": 109,
     "metadata": {},
     "output_type": "execute_result"
    },
    {
     "data": {
      "image/png": "[encoded data removed]"
     },
     "metadata": {
      "jupyter-vega": "#9444dff9-4e35-486b-acf7-db09a504fe45"
     },
     "output_type": "display_data"
    }
   ],
   "source": [
    "alt.Chart(Marlowe_df).mark_bar().encode(\n",
    "    alt.X(\"Positive\", bin=True),\n",
    "    y='count()',\n",
    ")"
   ]
  },
  {
   "cell_type": "markdown",
   "metadata": {},
   "source": [
    "# Problem 6\n",
    "From aggregating and grouping our data, and turning it into a simple histogram, we can see that Marlowe tends to write a wide variety of story lengths, while Shakespeare seemed to prefer his plays to be in the 20,000-30,000 word range. "
   ]
  },
  {
   "cell_type": "code",
   "execution_count": 110,
   "metadata": {},
   "outputs": [
    {
     "data": {
      "text/html": [
       "<div>\n",
       "<style scoped>\n",
       "    .dataframe tbody tr th:only-of-type {\n",
       "        vertical-align: middle;\n",
       "    }\n",
       "\n",
       "    .dataframe tbody tr th {\n",
       "        vertical-align: top;\n",
       "    }\n",
       "\n",
       "    .dataframe thead th {\n",
       "        text-align: right;\n",
       "    }\n",
       "</style>\n",
       "<table border=\"1\" class=\"dataframe\">\n",
       "  <thead>\n",
       "    <tr style=\"text-align: right;\">\n",
       "      <th></th>\n",
       "      <th>Text</th>\n",
       "      <th>Author</th>\n",
       "      <th>Word</th>\n",
       "      <th>Count</th>\n",
       "      <th>TFIDF</th>\n",
       "    </tr>\n",
       "  </thead>\n",
       "  <tbody>\n",
       "    <tr>\n",
       "      <th>0</th>\n",
       "      <td>jew_of_malta.txt</td>\n",
       "      <td>Marlowe</td>\n",
       "      <td>﻿The</td>\n",
       "      <td>1</td>\n",
       "      <td>0.166667</td>\n",
       "    </tr>\n",
       "    <tr>\n",
       "      <th>1</th>\n",
       "      <td>jew_of_malta.txt</td>\n",
       "      <td>Marlowe</td>\n",
       "      <td>Project</td>\n",
       "      <td>83</td>\n",
       "      <td>11.857143</td>\n",
       "    </tr>\n",
       "    <tr>\n",
       "      <th>2</th>\n",
       "      <td>jew_of_malta.txt</td>\n",
       "      <td>Marlowe</td>\n",
       "      <td>Gutenberg</td>\n",
       "      <td>27</td>\n",
       "      <td>3.857143</td>\n",
       "    </tr>\n",
       "    <tr>\n",
       "      <th>3</th>\n",
       "      <td>jew_of_malta.txt</td>\n",
       "      <td>Marlowe</td>\n",
       "      <td>EBook</td>\n",
       "      <td>3</td>\n",
       "      <td>0.500000</td>\n",
       "    </tr>\n",
       "    <tr>\n",
       "      <th>4</th>\n",
       "      <td>jew_of_malta.txt</td>\n",
       "      <td>Marlowe</td>\n",
       "      <td>of</td>\n",
       "      <td>568</td>\n",
       "      <td>81.142857</td>\n",
       "    </tr>\n",
       "  </tbody>\n",
       "</table>\n",
       "</div>"
      ],
      "text/plain": [
       "               Text   Author       Word  Count      TFIDF\n",
       "0  jew_of_malta.txt  Marlowe       ﻿The      1   0.166667\n",
       "1  jew_of_malta.txt  Marlowe    Project     83  11.857143\n",
       "2  jew_of_malta.txt  Marlowe  Gutenberg     27   3.857143\n",
       "3  jew_of_malta.txt  Marlowe      EBook      3   0.500000\n",
       "4  jew_of_malta.txt  Marlowe         of    568  81.142857"
      ]
     },
     "execution_count": 110,
     "metadata": {},
     "output_type": "execute_result"
    }
   ],
   "source": [
    "word_count_df.head()"
   ]
  },
  {
   "cell_type": "code",
   "execution_count": 111,
   "metadata": {},
   "outputs": [
    {
     "data": {
      "text/html": [
       "<div>\n",
       "<style scoped>\n",
       "    .dataframe tbody tr th:only-of-type {\n",
       "        vertical-align: middle;\n",
       "    }\n",
       "\n",
       "    .dataframe tbody tr th {\n",
       "        vertical-align: top;\n",
       "    }\n",
       "\n",
       "    .dataframe thead th {\n",
       "        text-align: right;\n",
       "    }\n",
       "</style>\n",
       "<table border=\"1\" class=\"dataframe\">\n",
       "  <thead>\n",
       "    <tr style=\"text-align: right;\">\n",
       "      <th></th>\n",
       "      <th>Count</th>\n",
       "      <th>Author</th>\n",
       "    </tr>\n",
       "    <tr>\n",
       "      <th>Text</th>\n",
       "      <th></th>\n",
       "      <th></th>\n",
       "    </tr>\n",
       "  </thead>\n",
       "  <tbody>\n",
       "    <tr>\n",
       "      <th>comedy_of_errors.txt</th>\n",
       "      <td>17979</td>\n",
       "      <td>Shakespeare</td>\n",
       "    </tr>\n",
       "    <tr>\n",
       "      <th>dido_queen_of_carthage.txt</th>\n",
       "      <td>17869</td>\n",
       "      <td>Marlowe</td>\n",
       "    </tr>\n",
       "    <tr>\n",
       "      <th>edward_II.txt</th>\n",
       "      <td>26114</td>\n",
       "      <td>Marlowe</td>\n",
       "    </tr>\n",
       "    <tr>\n",
       "      <th>edward_iii.txt</th>\n",
       "      <td>23008</td>\n",
       "      <td>Shakespeare</td>\n",
       "    </tr>\n",
       "    <tr>\n",
       "      <th>faustus.txt</th>\n",
       "      <td>22745</td>\n",
       "      <td>Marlowe</td>\n",
       "    </tr>\n",
       "  </tbody>\n",
       "</table>\n",
       "</div>"
      ],
      "text/plain": [
       "                            Count       Author\n",
       "Text                                          \n",
       "comedy_of_errors.txt        17979  Shakespeare\n",
       "dido_queen_of_carthage.txt  17869      Marlowe\n",
       "edward_II.txt               26114      Marlowe\n",
       "edward_iii.txt              23008  Shakespeare\n",
       "faustus.txt                 22745      Marlowe"
      ]
     },
     "execution_count": 111,
     "metadata": {},
     "output_type": "execute_result"
    }
   ],
   "source": [
    "aggregations = {'Count': 'sum',\n",
    "               'Author': 'min'}\n",
    "agg_word_count = word_count_df.groupby('Text').agg(aggregations)\n",
    "agg_word_count.head()       "
   ]
  },
  {
   "cell_type": "code",
   "execution_count": 112,
   "metadata": {},
   "outputs": [
    {
     "data": {
      "application/javascript": [
       "var spec = {\"config\": {\"view\": {\"width\": 400, \"height\": 300}}, \"data\": {\"name\": \"data-cac0ed33410f19d8d4cfd0b452bc4f6b\"}, \"mark\": \"bar\", \"encoding\": {\"color\": {\"type\": \"nominal\", \"field\": \"Author\"}, \"x\": {\"type\": \"quantitative\", \"bin\": true, \"field\": \"Count\"}, \"y\": {\"type\": \"quantitative\", \"aggregate\": \"count\"}}, \"$schema\": \"https://vega.github.io/schema/vega-lite/v2.6.0.json\", \"datasets\": {\"data-cac0ed33410f19d8d4cfd0b452bc4f6b\": [{\"Count\": 17979, \"Author\": \"Shakespeare\"}, {\"Count\": 17869, \"Author\": \"Marlowe\"}, {\"Count\": 26114, \"Author\": \"Marlowe\"}, {\"Count\": 23008, \"Author\": \"Shakespeare\"}, {\"Count\": 22745, \"Author\": \"Marlowe\"}, {\"Count\": 24679, \"Author\": \"Shakespeare\"}, {\"Count\": 28769, \"Author\": \"Shakespeare\"}, {\"Count\": 27635, \"Author\": \"Shakespeare\"}, {\"Count\": 9330, \"Author\": \"Marlowe\"}, {\"Count\": 28852, \"Author\": \"Marlowe\"}, {\"Count\": 24779, \"Author\": \"Shakespeare\"}, {\"Count\": 14383, \"Author\": \"Marlowe\"}, {\"Count\": 32974, \"Author\": \"Shakespeare\"}, {\"Count\": 27825, \"Author\": \"Marlowe\"}, {\"Count\": 24056, \"Author\": \"Shakespeare\"}, {\"Count\": 23530, \"Author\": \"Shakespeare\"}, {\"Count\": 20264, \"Author\": \"Shakespeare\"}]}};\n",
       "var opt = {};\n",
       "var type = \"vega-lite\";\n",
       "var id = \"b07bceab-86d6-4d4f-9a3e-3e7ffb4bdbdd\";\n",
       "\n",
       "var output_area = this;\n",
       "\n",
       "require([\"nbextensions/jupyter-vega/index\"], function(vega) {\n",
       "  var target = document.createElement(\"div\");\n",
       "  target.id = id;\n",
       "  target.className = \"vega-embed\";\n",
       "\n",
       "  var style = document.createElement(\"style\");\n",
       "  style.textContent = [\n",
       "    \".vega-embed .error p {\",\n",
       "    \"  color: firebrick;\",\n",
       "    \"  font-size: 14px;\",\n",
       "    \"}\",\n",
       "  ].join(\"\\\\n\");\n",
       "\n",
       "  // element is a jQuery wrapped DOM element inside the output area\n",
       "  // see http://ipython.readthedocs.io/en/stable/api/generated/\\\n",
       "  // IPython.display.html#IPython.display.Javascript.__init__\n",
       "  element[0].appendChild(target);\n",
       "  element[0].appendChild(style);\n",
       "\n",
       "  vega.render(\"#\" + id, spec, type, opt, output_area);\n",
       "}, function (err) {\n",
       "  if (err.requireType !== \"scripterror\") {\n",
       "    throw(err);\n",
       "  }\n",
       "});\n"
      ],
      "text/plain": [
       "<vega.vegalite.VegaLite at 0x10be3b358>"
      ]
     },
     "metadata": {
      "jupyter-vega": "#b07bceab-86d6-4d4f-9a3e-3e7ffb4bdbdd"
     },
     "output_type": "display_data"
    },
    {
     "data": {
      "text/plain": []
     },
     "execution_count": 112,
     "metadata": {},
     "output_type": "execute_result"
    },
    {
     "data": {
      "image/png": "[encoded data removed]"
     },
     "metadata": {
      "jupyter-vega": "#b07bceab-86d6-4d4f-9a3e-3e7ffb4bdbdd"
     },
     "output_type": "display_data"
    }
   ],
   "source": [
    "alt.Chart(agg_word_count).mark_bar().encode(\n",
    "    alt.X(\"Count\", bin=True),\n",
    "    y='count()', color='Author',\n",
    ")"
   ]
  },
  {
   "cell_type": "markdown",
   "metadata": {},
   "source": [
    "# Problem 7"
   ]
  },
  {
   "cell_type": "code",
   "execution_count": 113,
   "metadata": {},
   "outputs": [
    {
     "data": {
      "text/html": [
       "<div>\n",
       "<style scoped>\n",
       "    .dataframe tbody tr th:only-of-type {\n",
       "        vertical-align: middle;\n",
       "    }\n",
       "\n",
       "    .dataframe tbody tr th {\n",
       "        vertical-align: top;\n",
       "    }\n",
       "\n",
       "    .dataframe thead th {\n",
       "        text-align: right;\n",
       "    }\n",
       "</style>\n",
       "<table border=\"1\" class=\"dataframe\">\n",
       "  <thead>\n",
       "    <tr style=\"text-align: right;\">\n",
       "      <th></th>\n",
       "      <th>Text</th>\n",
       "      <th>Author_x</th>\n",
       "      <th>Positive</th>\n",
       "      <th>Negative</th>\n",
       "      <th>Neutral</th>\n",
       "      <th>Count</th>\n",
       "      <th>Author_y</th>\n",
       "    </tr>\n",
       "  </thead>\n",
       "  <tbody>\n",
       "    <tr>\n",
       "      <th>0</th>\n",
       "      <td>jew_of_malta.txt</td>\n",
       "      <td>Marlowe</td>\n",
       "      <td>0.120</td>\n",
       "      <td>0.090</td>\n",
       "      <td>0.790</td>\n",
       "      <td>28852</td>\n",
       "      <td>Marlowe</td>\n",
       "    </tr>\n",
       "    <tr>\n",
       "      <th>1</th>\n",
       "      <td>massacre_at_paris.txt</td>\n",
       "      <td>Marlowe</td>\n",
       "      <td>0.121</td>\n",
       "      <td>0.080</td>\n",
       "      <td>0.798</td>\n",
       "      <td>14383</td>\n",
       "      <td>Marlowe</td>\n",
       "    </tr>\n",
       "    <tr>\n",
       "      <th>2</th>\n",
       "      <td>tamburlaine.txt</td>\n",
       "      <td>Marlowe</td>\n",
       "      <td>0.141</td>\n",
       "      <td>0.091</td>\n",
       "      <td>0.768</td>\n",
       "      <td>27825</td>\n",
       "      <td>Marlowe</td>\n",
       "    </tr>\n",
       "    <tr>\n",
       "      <th>3</th>\n",
       "      <td>faustus.txt</td>\n",
       "      <td>Marlowe</td>\n",
       "      <td>0.119</td>\n",
       "      <td>0.089</td>\n",
       "      <td>0.792</td>\n",
       "      <td>22745</td>\n",
       "      <td>Marlowe</td>\n",
       "    </tr>\n",
       "    <tr>\n",
       "      <th>4</th>\n",
       "      <td>dido_queen_of_carthage.txt</td>\n",
       "      <td>Marlowe</td>\n",
       "      <td>0.087</td>\n",
       "      <td>0.062</td>\n",
       "      <td>0.851</td>\n",
       "      <td>17869</td>\n",
       "      <td>Marlowe</td>\n",
       "    </tr>\n",
       "  </tbody>\n",
       "</table>\n",
       "</div>"
      ],
      "text/plain": [
       "                         Text Author_x  Positive  Negative  Neutral  Count  \\\n",
       "0            jew_of_malta.txt  Marlowe     0.120     0.090    0.790  28852   \n",
       "1       massacre_at_paris.txt  Marlowe     0.121     0.080    0.798  14383   \n",
       "2             tamburlaine.txt  Marlowe     0.141     0.091    0.768  27825   \n",
       "3                 faustus.txt  Marlowe     0.119     0.089    0.792  22745   \n",
       "4  dido_queen_of_carthage.txt  Marlowe     0.087     0.062    0.851  17869   \n",
       "\n",
       "  Author_y  \n",
       "0  Marlowe  \n",
       "1  Marlowe  \n",
       "2  Marlowe  \n",
       "3  Marlowe  \n",
       "4  Marlowe  "
      ]
     },
     "execution_count": 113,
     "metadata": {},
     "output_type": "execute_result"
    }
   ],
   "source": [
    "combined_df = sentiment_df.merge(agg_word_count, on = 'Text')\n",
    "combined_df.head()"
   ]
  },
  {
   "cell_type": "code",
   "execution_count": 114,
   "metadata": {},
   "outputs": [
    {
     "data": {
      "application/javascript": [
       "var spec = {\"config\": {\"view\": {\"width\": 400, \"height\": 300}}, \"data\": {\"name\": \"data-901c96fdf1d4cd9bc9cf466a0e305b37\"}, \"mark\": \"point\", \"encoding\": {\"color\": {\"type\": \"nominal\", \"field\": \"Author_x\"}, \"x\": {\"type\": \"quantitative\", \"field\": \"Positive\"}, \"y\": {\"type\": \"quantitative\", \"field\": \"Count\"}}, \"selection\": {\"selector008\": {\"type\": \"interval\", \"bind\": \"scales\", \"encodings\": [\"x\", \"y\"]}}, \"$schema\": \"https://vega.github.io/schema/vega-lite/v2.6.0.json\", \"datasets\": {\"data-901c96fdf1d4cd9bc9cf466a0e305b37\": [{\"Text\": \"jew_of_malta.txt\", \"Author_x\": \"Marlowe\", \"Positive\": 0.12, \"Negative\": 0.09, \"Neutral\": 0.79, \"Count\": 28852, \"Author_y\": \"Marlowe\"}, {\"Text\": \"massacre_at_paris.txt\", \"Author_x\": \"Marlowe\", \"Positive\": 0.121, \"Negative\": 0.08, \"Neutral\": 0.7979999999999999, \"Count\": 14383, \"Author_y\": \"Marlowe\"}, {\"Text\": \"tamburlaine.txt\", \"Author_x\": \"Marlowe\", \"Positive\": 0.141, \"Negative\": 0.091, \"Neutral\": 0.768, \"Count\": 27825, \"Author_y\": \"Marlowe\"}, {\"Text\": \"faustus.txt\", \"Author_x\": \"Marlowe\", \"Positive\": 0.11900000000000001, \"Negative\": 0.08900000000000001, \"Neutral\": 0.792, \"Count\": 22745, \"Author_y\": \"Marlowe\"}, {\"Text\": \"dido_queen_of_carthage.txt\", \"Author_x\": \"Marlowe\", \"Positive\": 0.087, \"Negative\": 0.062, \"Neutral\": 0.851, \"Count\": 17869, \"Author_y\": \"Marlowe\"}, {\"Text\": \"edward_II.txt\", \"Author_x\": \"Marlowe\", \"Positive\": 0.133, \"Negative\": 0.11199999999999999, \"Neutral\": 0.755, \"Count\": 26114, \"Author_y\": \"Marlowe\"}, {\"Text\": \"hero_and_leander.txt\", \"Author_x\": \"Marlowe\", \"Positive\": 0.19, \"Negative\": 0.1, \"Neutral\": 0.71, \"Count\": 9330, \"Author_y\": \"Marlowe\"}, {\"Text\": \"henry_vi_3.txt\", \"Author_x\": \"Shakespeare\", \"Positive\": 0.122, \"Negative\": 0.084, \"Neutral\": 0.794, \"Count\": 27635, \"Author_y\": \"Shakespeare\"}, {\"Text\": \"love_labours_lost.txt\", \"Author_x\": \"Shakespeare\", \"Positive\": 0.179, \"Negative\": 0.09300000000000001, \"Neutral\": 0.7290000000000001, \"Count\": 24779, \"Author_y\": \"Shakespeare\"}, {\"Text\": \"henry_vi_2.txt\", \"Author_x\": \"Shakespeare\", \"Positive\": 0.114, \"Negative\": 0.08900000000000001, \"Neutral\": 0.797, \"Count\": 28769, \"Author_y\": \"Shakespeare\"}, {\"Text\": \"henry_vi_1.txt\", \"Author_x\": \"Shakespeare\", \"Positive\": 0.138, \"Negative\": 0.132, \"Neutral\": 0.731, \"Count\": 24679, \"Author_y\": \"Shakespeare\"}, {\"Text\": \"richard_iii.txt\", \"Author_x\": \"Shakespeare\", \"Positive\": 0.157, \"Negative\": 0.147, \"Neutral\": 0.695, \"Count\": 32974, \"Author_y\": \"Shakespeare\"}, {\"Text\": \"taming_of_the_shrew.txt\", \"Author_x\": \"Shakespeare\", \"Positive\": 0.159, \"Negative\": 0.073, \"Neutral\": 0.767, \"Count\": 24056, \"Author_y\": \"Shakespeare\"}, {\"Text\": \"two_gentleman_of_verona.txt\", \"Author_x\": \"Shakespeare\", \"Positive\": 0.174, \"Negative\": 0.09300000000000001, \"Neutral\": 0.733, \"Count\": 20264, \"Author_y\": \"Shakespeare\"}, {\"Text\": \"comedy_of_errors.txt\", \"Author_x\": \"Shakespeare\", \"Positive\": 0.086, \"Negative\": 0.085, \"Neutral\": 0.8290000000000001, \"Count\": 17979, \"Author_y\": \"Shakespeare\"}, {\"Text\": \"edward_iii.txt\", \"Author_x\": \"Shakespeare\", \"Positive\": 0.152, \"Negative\": 0.126, \"Neutral\": 0.721, \"Count\": 23008, \"Author_y\": \"Shakespeare\"}, {\"Text\": \"titus_andronicus.txt\", \"Author_x\": \"Shakespeare\", \"Positive\": 0.14, \"Negative\": 0.13699999999999998, \"Neutral\": 0.723, \"Count\": 23530, \"Author_y\": \"Shakespeare\"}]}};\n",
       "var opt = {};\n",
       "var type = \"vega-lite\";\n",
       "var id = \"a85e23f3-a679-4e75-b86d-bae514df574f\";\n",
       "\n",
       "var output_area = this;\n",
       "\n",
       "require([\"nbextensions/jupyter-vega/index\"], function(vega) {\n",
       "  var target = document.createElement(\"div\");\n",
       "  target.id = id;\n",
       "  target.className = \"vega-embed\";\n",
       "\n",
       "  var style = document.createElement(\"style\");\n",
       "  style.textContent = [\n",
       "    \".vega-embed .error p {\",\n",
       "    \"  color: firebrick;\",\n",
       "    \"  font-size: 14px;\",\n",
       "    \"}\",\n",
       "  ].join(\"\\\\n\");\n",
       "\n",
       "  // element is a jQuery wrapped DOM element inside the output area\n",
       "  // see http://ipython.readthedocs.io/en/stable/api/generated/\\\n",
       "  // IPython.display.html#IPython.display.Javascript.__init__\n",
       "  element[0].appendChild(target);\n",
       "  element[0].appendChild(style);\n",
       "\n",
       "  vega.render(\"#\" + id, spec, type, opt, output_area);\n",
       "}, function (err) {\n",
       "  if (err.requireType !== \"scripterror\") {\n",
       "    throw(err);\n",
       "  }\n",
       "});\n"
      ],
      "text/plain": [
       "<vega.vegalite.VegaLite at 0x10be3b4e0>"
      ]
     },
     "metadata": {
      "jupyter-vega": "#a85e23f3-a679-4e75-b86d-bae514df574f"
     },
     "output_type": "display_data"
    },
    {
     "data": {
      "text/plain": []
     },
     "execution_count": 114,
     "metadata": {},
     "output_type": "execute_result"
    },
    {
     "data": {
      "image/png": "[encoded data removed]"
     },
     "metadata": {
      "jupyter-vega": "#a85e23f3-a679-4e75-b86d-bae514df574f"
     },
     "output_type": "display_data"
    }
   ],
   "source": [
    "alt.Chart(combined_df).mark_point().encode(\n",
    "    x='Positive',\n",
    "    y='Count',\n",
    "    color='Author_x'\n",
    "    ).interactive()"
   ]
  },
  {
   "cell_type": "code",
   "execution_count": 115,
   "metadata": {},
   "outputs": [
    {
     "data": {
      "application/javascript": [
       "var spec = {\"config\": {\"view\": {\"width\": 400, \"height\": 300}}, \"data\": {\"name\": \"data-901c96fdf1d4cd9bc9cf466a0e305b37\"}, \"mark\": \"bar\", \"encoding\": {\"color\": {\"type\": \"nominal\", \"field\": \"Author_x\"}, \"x\": {\"type\": \"nominal\", \"field\": \"Text\"}, \"y\": {\"type\": \"quantitative\", \"field\": \"Count\"}}, \"$schema\": \"https://vega.github.io/schema/vega-lite/v2.6.0.json\", \"datasets\": {\"data-901c96fdf1d4cd9bc9cf466a0e305b37\": [{\"Text\": \"jew_of_malta.txt\", \"Author_x\": \"Marlowe\", \"Positive\": 0.12, \"Negative\": 0.09, \"Neutral\": 0.79, \"Count\": 28852, \"Author_y\": \"Marlowe\"}, {\"Text\": \"massacre_at_paris.txt\", \"Author_x\": \"Marlowe\", \"Positive\": 0.121, \"Negative\": 0.08, \"Neutral\": 0.7979999999999999, \"Count\": 14383, \"Author_y\": \"Marlowe\"}, {\"Text\": \"tamburlaine.txt\", \"Author_x\": \"Marlowe\", \"Positive\": 0.141, \"Negative\": 0.091, \"Neutral\": 0.768, \"Count\": 27825, \"Author_y\": \"Marlowe\"}, {\"Text\": \"faustus.txt\", \"Author_x\": \"Marlowe\", \"Positive\": 0.11900000000000001, \"Negative\": 0.08900000000000001, \"Neutral\": 0.792, \"Count\": 22745, \"Author_y\": \"Marlowe\"}, {\"Text\": \"dido_queen_of_carthage.txt\", \"Author_x\": \"Marlowe\", \"Positive\": 0.087, \"Negative\": 0.062, \"Neutral\": 0.851, \"Count\": 17869, \"Author_y\": \"Marlowe\"}, {\"Text\": \"edward_II.txt\", \"Author_x\": \"Marlowe\", \"Positive\": 0.133, \"Negative\": 0.11199999999999999, \"Neutral\": 0.755, \"Count\": 26114, \"Author_y\": \"Marlowe\"}, {\"Text\": \"hero_and_leander.txt\", \"Author_x\": \"Marlowe\", \"Positive\": 0.19, \"Negative\": 0.1, \"Neutral\": 0.71, \"Count\": 9330, \"Author_y\": \"Marlowe\"}, {\"Text\": \"henry_vi_3.txt\", \"Author_x\": \"Shakespeare\", \"Positive\": 0.122, \"Negative\": 0.084, \"Neutral\": 0.794, \"Count\": 27635, \"Author_y\": \"Shakespeare\"}, {\"Text\": \"love_labours_lost.txt\", \"Author_x\": \"Shakespeare\", \"Positive\": 0.179, \"Negative\": 0.09300000000000001, \"Neutral\": 0.7290000000000001, \"Count\": 24779, \"Author_y\": \"Shakespeare\"}, {\"Text\": \"henry_vi_2.txt\", \"Author_x\": \"Shakespeare\", \"Positive\": 0.114, \"Negative\": 0.08900000000000001, \"Neutral\": 0.797, \"Count\": 28769, \"Author_y\": \"Shakespeare\"}, {\"Text\": \"henry_vi_1.txt\", \"Author_x\": \"Shakespeare\", \"Positive\": 0.138, \"Negative\": 0.132, \"Neutral\": 0.731, \"Count\": 24679, \"Author_y\": \"Shakespeare\"}, {\"Text\": \"richard_iii.txt\", \"Author_x\": \"Shakespeare\", \"Positive\": 0.157, \"Negative\": 0.147, \"Neutral\": 0.695, \"Count\": 32974, \"Author_y\": \"Shakespeare\"}, {\"Text\": \"taming_of_the_shrew.txt\", \"Author_x\": \"Shakespeare\", \"Positive\": 0.159, \"Negative\": 0.073, \"Neutral\": 0.767, \"Count\": 24056, \"Author_y\": \"Shakespeare\"}, {\"Text\": \"two_gentleman_of_verona.txt\", \"Author_x\": \"Shakespeare\", \"Positive\": 0.174, \"Negative\": 0.09300000000000001, \"Neutral\": 0.733, \"Count\": 20264, \"Author_y\": \"Shakespeare\"}, {\"Text\": \"comedy_of_errors.txt\", \"Author_x\": \"Shakespeare\", \"Positive\": 0.086, \"Negative\": 0.085, \"Neutral\": 0.8290000000000001, \"Count\": 17979, \"Author_y\": \"Shakespeare\"}, {\"Text\": \"edward_iii.txt\", \"Author_x\": \"Shakespeare\", \"Positive\": 0.152, \"Negative\": 0.126, \"Neutral\": 0.721, \"Count\": 23008, \"Author_y\": \"Shakespeare\"}, {\"Text\": \"titus_andronicus.txt\", \"Author_x\": \"Shakespeare\", \"Positive\": 0.14, \"Negative\": 0.13699999999999998, \"Neutral\": 0.723, \"Count\": 23530, \"Author_y\": \"Shakespeare\"}]}};\n",
       "var opt = {};\n",
       "var type = \"vega-lite\";\n",
       "var id = \"a2cb8020-9914-4cb2-9795-c361f9ae6e07\";\n",
       "\n",
       "var output_area = this;\n",
       "\n",
       "require([\"nbextensions/jupyter-vega/index\"], function(vega) {\n",
       "  var target = document.createElement(\"div\");\n",
       "  target.id = id;\n",
       "  target.className = \"vega-embed\";\n",
       "\n",
       "  var style = document.createElement(\"style\");\n",
       "  style.textContent = [\n",
       "    \".vega-embed .error p {\",\n",
       "    \"  color: firebrick;\",\n",
       "    \"  font-size: 14px;\",\n",
       "    \"}\",\n",
       "  ].join(\"\\\\n\");\n",
       "\n",
       "  // element is a jQuery wrapped DOM element inside the output area\n",
       "  // see http://ipython.readthedocs.io/en/stable/api/generated/\\\n",
       "  // IPython.display.html#IPython.display.Javascript.__init__\n",
       "  element[0].appendChild(target);\n",
       "  element[0].appendChild(style);\n",
       "\n",
       "  vega.render(\"#\" + id, spec, type, opt, output_area);\n",
       "}, function (err) {\n",
       "  if (err.requireType !== \"scripterror\") {\n",
       "    throw(err);\n",
       "  }\n",
       "});\n"
      ],
      "text/plain": [
       "<vega.vegalite.VegaLite at 0x10bb847b8>"
      ]
     },
     "metadata": {
      "jupyter-vega": "#a2cb8020-9914-4cb2-9795-c361f9ae6e07"
     },
     "output_type": "display_data"
    },
    {
     "data": {
      "text/plain": []
     },
     "execution_count": 115,
     "metadata": {},
     "output_type": "execute_result"
    },
    {
     "data": {
      "image/png": "[encoded data removed]"
     },
     "metadata": {
      "jupyter-vega": "#a2cb8020-9914-4cb2-9795-c361f9ae6e07"
     },
     "output_type": "display_data"
    }
   ],
   "source": [
    "alt.Chart(combined_df).mark_bar().encode(\n",
    "    x='Text',\n",
    "    y='Count',\n",
    "    color = 'Author_x'\n",
    ")"
   ]
  },
  {
   "cell_type": "code",
   "execution_count": 116,
   "metadata": {},
   "outputs": [
    {
     "data": {
      "application/javascript": [
       "var spec = {\"config\": {\"view\": {\"width\": 400, \"height\": 300}}, \"data\": {\"name\": \"data-901c96fdf1d4cd9bc9cf466a0e305b37\"}, \"mark\": \"point\", \"encoding\": {\"color\": {\"type\": \"nominal\", \"field\": \"Author_x\"}, \"size\": {\"type\": \"quantitative\", \"field\": \"Neutral\"}, \"x\": {\"type\": \"quantitative\", \"field\": \"Negative\"}, \"y\": {\"type\": \"quantitative\", \"field\": \"Count\"}}, \"selection\": {\"selector009\": {\"type\": \"interval\", \"bind\": \"scales\", \"encodings\": [\"x\", \"y\"]}}, \"$schema\": \"https://vega.github.io/schema/vega-lite/v2.6.0.json\", \"datasets\": {\"data-901c96fdf1d4cd9bc9cf466a0e305b37\": [{\"Text\": \"jew_of_malta.txt\", \"Author_x\": \"Marlowe\", \"Positive\": 0.12, \"Negative\": 0.09, \"Neutral\": 0.79, \"Count\": 28852, \"Author_y\": \"Marlowe\"}, {\"Text\": \"massacre_at_paris.txt\", \"Author_x\": \"Marlowe\", \"Positive\": 0.121, \"Negative\": 0.08, \"Neutral\": 0.7979999999999999, \"Count\": 14383, \"Author_y\": \"Marlowe\"}, {\"Text\": \"tamburlaine.txt\", \"Author_x\": \"Marlowe\", \"Positive\": 0.141, \"Negative\": 0.091, \"Neutral\": 0.768, \"Count\": 27825, \"Author_y\": \"Marlowe\"}, {\"Text\": \"faustus.txt\", \"Author_x\": \"Marlowe\", \"Positive\": 0.11900000000000001, \"Negative\": 0.08900000000000001, \"Neutral\": 0.792, \"Count\": 22745, \"Author_y\": \"Marlowe\"}, {\"Text\": \"dido_queen_of_carthage.txt\", \"Author_x\": \"Marlowe\", \"Positive\": 0.087, \"Negative\": 0.062, \"Neutral\": 0.851, \"Count\": 17869, \"Author_y\": \"Marlowe\"}, {\"Text\": \"edward_II.txt\", \"Author_x\": \"Marlowe\", \"Positive\": 0.133, \"Negative\": 0.11199999999999999, \"Neutral\": 0.755, \"Count\": 26114, \"Author_y\": \"Marlowe\"}, {\"Text\": \"hero_and_leander.txt\", \"Author_x\": \"Marlowe\", \"Positive\": 0.19, \"Negative\": 0.1, \"Neutral\": 0.71, \"Count\": 9330, \"Author_y\": \"Marlowe\"}, {\"Text\": \"henry_vi_3.txt\", \"Author_x\": \"Shakespeare\", \"Positive\": 0.122, \"Negative\": 0.084, \"Neutral\": 0.794, \"Count\": 27635, \"Author_y\": \"Shakespeare\"}, {\"Text\": \"love_labours_lost.txt\", \"Author_x\": \"Shakespeare\", \"Positive\": 0.179, \"Negative\": 0.09300000000000001, \"Neutral\": 0.7290000000000001, \"Count\": 24779, \"Author_y\": \"Shakespeare\"}, {\"Text\": \"henry_vi_2.txt\", \"Author_x\": \"Shakespeare\", \"Positive\": 0.114, \"Negative\": 0.08900000000000001, \"Neutral\": 0.797, \"Count\": 28769, \"Author_y\": \"Shakespeare\"}, {\"Text\": \"henry_vi_1.txt\", \"Author_x\": \"Shakespeare\", \"Positive\": 0.138, \"Negative\": 0.132, \"Neutral\": 0.731, \"Count\": 24679, \"Author_y\": \"Shakespeare\"}, {\"Text\": \"richard_iii.txt\", \"Author_x\": \"Shakespeare\", \"Positive\": 0.157, \"Negative\": 0.147, \"Neutral\": 0.695, \"Count\": 32974, \"Author_y\": \"Shakespeare\"}, {\"Text\": \"taming_of_the_shrew.txt\", \"Author_x\": \"Shakespeare\", \"Positive\": 0.159, \"Negative\": 0.073, \"Neutral\": 0.767, \"Count\": 24056, \"Author_y\": \"Shakespeare\"}, {\"Text\": \"two_gentleman_of_verona.txt\", \"Author_x\": \"Shakespeare\", \"Positive\": 0.174, \"Negative\": 0.09300000000000001, \"Neutral\": 0.733, \"Count\": 20264, \"Author_y\": \"Shakespeare\"}, {\"Text\": \"comedy_of_errors.txt\", \"Author_x\": \"Shakespeare\", \"Positive\": 0.086, \"Negative\": 0.085, \"Neutral\": 0.8290000000000001, \"Count\": 17979, \"Author_y\": \"Shakespeare\"}, {\"Text\": \"edward_iii.txt\", \"Author_x\": \"Shakespeare\", \"Positive\": 0.152, \"Negative\": 0.126, \"Neutral\": 0.721, \"Count\": 23008, \"Author_y\": \"Shakespeare\"}, {\"Text\": \"titus_andronicus.txt\", \"Author_x\": \"Shakespeare\", \"Positive\": 0.14, \"Negative\": 0.13699999999999998, \"Neutral\": 0.723, \"Count\": 23530, \"Author_y\": \"Shakespeare\"}]}};\n",
       "var opt = {};\n",
       "var type = \"vega-lite\";\n",
       "var id = \"eb79c701-d9ae-427f-92d4-7d389b059e9e\";\n",
       "\n",
       "var output_area = this;\n",
       "\n",
       "require([\"nbextensions/jupyter-vega/index\"], function(vega) {\n",
       "  var target = document.createElement(\"div\");\n",
       "  target.id = id;\n",
       "  target.className = \"vega-embed\";\n",
       "\n",
       "  var style = document.createElement(\"style\");\n",
       "  style.textContent = [\n",
       "    \".vega-embed .error p {\",\n",
       "    \"  color: firebrick;\",\n",
       "    \"  font-size: 14px;\",\n",
       "    \"}\",\n",
       "  ].join(\"\\\\n\");\n",
       "\n",
       "  // element is a jQuery wrapped DOM element inside the output area\n",
       "  // see http://ipython.readthedocs.io/en/stable/api/generated/\\\n",
       "  // IPython.display.html#IPython.display.Javascript.__init__\n",
       "  element[0].appendChild(target);\n",
       "  element[0].appendChild(style);\n",
       "\n",
       "  vega.render(\"#\" + id, spec, type, opt, output_area);\n",
       "}, function (err) {\n",
       "  if (err.requireType !== \"scripterror\") {\n",
       "    throw(err);\n",
       "  }\n",
       "});\n"
      ],
      "text/plain": [
       "<vega.vegalite.VegaLite at 0x10bb84e10>"
      ]
     },
     "metadata": {
      "jupyter-vega": "#eb79c701-d9ae-427f-92d4-7d389b059e9e"
     },
     "output_type": "display_data"
    },
    {
     "data": {
      "text/plain": []
     },
     "execution_count": 116,
     "metadata": {},
     "output_type": "execute_result"
    },
    {
     "data": {
      "image/png": "[encoded data removed]"
     },
     "metadata": {
      "jupyter-vega": "#eb79c701-d9ae-427f-92d4-7d389b059e9e"
     },
     "output_type": "display_data"
    }
   ],
   "source": [
    "alt.Chart(combined_df).mark_point().encode(\n",
    "    x='Negative',\n",
    "    y='Count',\n",
    "    color='Author_x',\n",
    "    size = 'Neutral'\n",
    "    ).interactive()"
   ]
  },
  {
   "cell_type": "code",
   "execution_count": null,
   "metadata": {},
   "outputs": [],
   "source": []
  },
  {
   "cell_type": "code",
   "execution_count": null,
   "metadata": {},
   "outputs": [],
   "source": []
  },
  {
   "cell_type": "code",
   "execution_count": null,
   "metadata": {},
   "outputs": [],
   "source": []
  }
 ],
 "metadata": {
  "kernelspec": {
   "display_name": "Python 3",
   "language": "python",
   "name": "python3"
  },
  "language_info": {
   "codemirror_mode": {
    "name": "ipython",
    "version": 3
   },
   "file_extension": ".py",
   "mimetype": "text/x-python",
   "name": "python",
   "nbconvert_exporter": "python",
   "pygments_lexer": "ipython3",
   "version": "3.6.3"
  }
 },
 "nbformat": 4,
 "nbformat_minor": 2
}
